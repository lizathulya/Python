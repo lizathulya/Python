{
  "nbformat": 4,
  "nbformat_minor": 0,
  "metadata": {
    "colab": {
      "provenance": [],
      "authorship_tag": "ABX9TyOrRYLrN3QIBRI5lNCTE0ol",
      "include_colab_link": true
    },
    "kernelspec": {
      "name": "python3",
      "display_name": "Python 3"
    },
    "language_info": {
      "name": "python"
    }
  },
  "cells": [
    {
      "cell_type": "markdown",
      "metadata": {
        "id": "view-in-github",
        "colab_type": "text"
      },
      "source": [
        "<a href=\"https://colab.research.google.com/github/lizathulya/Python/blob/main/BMI_Calculator__beginner_Projects.ipynb\" target=\"_parent\"><img src=\"https://colab.research.google.com/assets/colab-badge.svg\" alt=\"Open In Colab\"/></a>"
      ]
    },
    {
      "cell_type": "code",
      "execution_count": null,
      "metadata": {
        "colab": {
          "base_uri": "https://localhost:8080/"
        },
        "id": "KboTgNPZmofg",
        "outputId": "e1db843a-92c3-488c-e5b5-c3294738e741"
      },
      "outputs": [
        {
          "output_type": "stream",
          "name": "stdout",
          "text": [
            "Hello there!! Welcome to the BMI Index Calculator\n"
          ]
        }
      ],
      "source": [
        "print(\"Hello there!! Welcome to the BMI Index Calculator\")\n",
        "name=input(\"what is your name? \")\n",
        "weight=int(input(\"enter your weight in pounds: \"))\n",
        "height=int(input(\"enter your height in inches:\"))\n",
        "BMI=(weight* 703)/(height*height)\n",
        "print(\"the calcultions are taking place ...............\")\n",
        "print(\" ..............................\")\n",
        "print('Your body BMI is:  ',BMI)\n",
        "if BMI>0:\n",
        "    if(BMI<18.5):\n",
        "        print(name +\", you are underwight.\")\n",
        "    elif (BMI<=24.9):\n",
        "        print(name +\", you are normal weight.\")\n",
        "    elif (BMI<29.9):\n",
        "        print(name +\", you are overweight. You need to exercise more and stop sitting and writing so many python tutorials.\")\n",
        "    elif (BMI<34.9):\n",
        "        print(name +\", you are obese.\")\n",
        "    elif (BMI<39.9):\n",
        "        print(name +\", you are severely obese.\")\n",
        "    else:\n",
        "        print(name +\", you are morbidly obese.\")\n",
        "else:\n",
        "    print(\"Enter valid input\")"
      ]
    }
  ]
}