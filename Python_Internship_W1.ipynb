{
  "nbformat": 4,
  "nbformat_minor": 0,
  "metadata": {
    "colab": {
      "provenance": [],
      "authorship_tag": "ABX9TyNHS0DeCXdRula5bSdSrhU2",
      "include_colab_link": true
    },
    "kernelspec": {
      "name": "python3",
      "display_name": "Python 3"
    },
    "language_info": {
      "name": "python"
    }
  },
  "cells": [
    {
      "cell_type": "markdown",
      "metadata": {
        "id": "view-in-github",
        "colab_type": "text"
      },
      "source": [
        "<a href=\"https://colab.research.google.com/github/lizathulya/Python/blob/main/Python_Internship_W1.ipynb\" target=\"_parent\"><img src=\"https://colab.research.google.com/assets/colab-badge.svg\" alt=\"Open In Colab\"/></a>"
      ]
    },
    {
      "cell_type": "code",
      "execution_count": 11,
      "metadata": {
        "colab": {
          "base_uri": "https://localhost:8080/"
        },
        "id": "CmMQZRz-BcKj",
        "outputId": "f866dc2f-d5db-4c4c-c89e-befafdd6155a"
      },
      "outputs": [
        {
          "output_type": "stream",
          "name": "stdout",
          "text": [
            "Welcome to the game enter your name :lol\n",
            " Hi lol I am going to guess a number between 1 to 100:\n",
            "Choose the diffculty level, Type 'easy' or 'hard' :easy\n",
            "You have only 10 guesses left\n",
            "type your guess45\n",
            "Your guess is too low\n",
            "guess again\n",
            "You have only 9 guesses left\n",
            "type your guess78\n",
            "Your guess is too high\n",
            "guess again\n",
            "You have only 8 guesses left\n",
            "type your guess60\n",
            "Your guess is too low\n",
            "guess again\n",
            "You have only 7 guesses left\n",
            "type your guess65\n",
            "Your guess is too low\n",
            "guess again\n",
            "You have only 6 guesses left\n",
            "type your guess70\n",
            "Your guess is too high\n",
            "guess again\n",
            "You have only 5 guesses left\n",
            "type your guess68\n",
            "you got it ! The answer was 68\n",
            "you got the number in  5 tries\n"
          ]
        }
      ],
      "source": [
        "import random\n",
        "Name=input(\"Welcome to the game enter your name :\")\n",
        "print(\" Hi\",Name,\"I am going to guess a number between 1 to 100:\")\n",
        "comp_num=random.randint(1,100)\n",
        "while True:\n",
        "   choice=input(\"Choose the diffculty level, Type 'easy' or 'hard' :\")\n",
        "   if choice.lower()==\"hard\":\n",
        "       count=5\n",
        "       break\n",
        "   if choice.lower()==\"easy\":\n",
        "       count=10\n",
        "       break\n",
        "\n",
        "   print(\"Please choose from the above options\")\n",
        "\n",
        "\n",
        "while count!=0 :\n",
        "    print(\"You have only\",count,\"guesses left\")\n",
        "    guess_number=int(input(\"type your guess\"))\n",
        "    if comp_num==guess_number:\n",
        "           print(\"you got it ! The answer was\",comp_num)\n",
        "           print(\"you got the number in \",count,\"tries\")\n",
        "           break\n",
        "    elif comp_num>guess_number:\n",
        "           print(\"Your guess is too low\")\n",
        "           print(\"guess again\")\n",
        "           count=count-1\n",
        "    elif comp_num<guess_number:\n",
        "        print(\"Your guess is too high\")\n",
        "        print(\"guess again\")\n",
        "        count=count-1\n",
        "    if count==0:\n",
        "       print(\"You have lost the game and all attempts are over\")\n",
        "       print(\" the number I guessed was :\" , comp_num)"
      ]
    }
  ]
}