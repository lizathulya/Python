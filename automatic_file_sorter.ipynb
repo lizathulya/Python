{
 "cells": [
  {
   "cell_type": "code",
   "execution_count": 1,
   "metadata": {},
   "outputs": [],
   "source": [
    "import os,shutil"
   ]
  },
  {
   "cell_type": "code",
   "execution_count": 2,
   "metadata": {},
   "outputs": [],
   "source": [
    "path=r\"C:\\Users\\asus\\Documents\\Python_Tutorial\"\n",
    "files_names=os.listdir(path)"
   ]
  },
  {
   "cell_type": "code",
   "execution_count": 3,
   "metadata": {},
   "outputs": [],
   "source": [
    "folder_names =[\"CSV FILES\",'Image files',\"text files\",\"PDF files\"]\n",
    "for loop in range(0,4):\n",
    "    if not os.path.exists(path + folder_names[loop]): # to check where the seprate filesfolder is already there #\n",
    "        print(path + folder_names[loop])\n",
    "        os.mkdir(path + folder_names[loop])\n",
    "        \n",
    "for file in files_names:\n",
    "    if \".xlsx\" in file and not os.path.exists(path + 'CSV FILES/' + file):# here the csv files is moved to the csv folder by chking if its already there else put it where it belongs#\n",
    "        shutil.move(path+file,path + 'CSV FILES/' + file)\n",
    "    elif \".png\" in file and not os.path.exists(path + 'Image files/' + file): \n",
    "        shutil.move(path+file,path + 'Image files/' + file)\n",
    "    elif \".docx\" in file and not os.path.exists(path + 'text files/' + file): \n",
    "        shutil.move(path+file,path + 'text files/' + file)\n",
    "    elif \".pdf\" in file and not os.path.exists(path + 'PDF files/' + file): \n",
    "        shutil.move(path+file,path + 'PDF files/' + file)"
   ]
  }
 ],
 "metadata": {
  "kernelspec": {
   "display_name": "base",
   "language": "python",
   "name": "python3"
  },
  "language_info": {
   "codemirror_mode": {
    "name": "ipython",
    "version": 3
   },
   "file_extension": ".py",
   "mimetype": "text/x-python",
   "name": "python",
   "nbconvert_exporter": "python",
   "pygments_lexer": "ipython3",
   "version": "3.11.7"
  }
 },
 "nbformat": 4,
 "nbformat_minor": 2
}
